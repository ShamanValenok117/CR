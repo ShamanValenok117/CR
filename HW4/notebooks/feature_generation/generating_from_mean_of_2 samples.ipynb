{
 "cells": [
  {
   "cell_type": "markdown",
   "metadata": {},
   "source": [
    "# Feature_generation\n",
    "\n",
    "### Loading required libraries "
   ]
  },
  {
   "cell_type": "code",
   "execution_count": 1,
   "metadata": {
    "ExecuteTime": {
     "end_time": "2021-11-12T07:22:37.490076Z",
     "start_time": "2021-11-12T07:22:36.240074Z"
    }
   },
   "outputs": [],
   "source": [
    "# matrices\n",
    "import numpy as np\n",
    "import pandas as pd\n",
    "\n",
    "#sklearn\n",
    "from sklearn.model_selection import train_test_split\n"
   ]
  },
  {
   "cell_type": "markdown",
   "metadata": {},
   "source": [
    "#### Loading prepared dataset"
   ]
  },
  {
   "cell_type": "code",
   "execution_count": 2,
   "metadata": {
    "ExecuteTime": {
     "end_time": "2021-11-12T07:22:37.571076Z",
     "start_time": "2021-11-12T07:22:37.490076Z"
    }
   },
   "outputs": [],
   "source": [
    "X = pd.read_csv('../../data/intermid/X_wo_missed_values.csv',index_col=0)\n",
    "y = pd.read_csv('../../data/intermid/y_wo_missed_values.csv',index_col=0)"
   ]
  },
  {
   "cell_type": "markdown",
   "metadata": {},
   "source": [
    "### Feature generation. \n"
   ]
  },
  {
   "cell_type": "code",
   "execution_count": 3,
   "metadata": {
    "ExecuteTime": {
     "end_time": "2021-11-12T07:22:37.601076Z",
     "start_time": "2021-11-12T07:22:37.571076Z"
    }
   },
   "outputs": [],
   "source": [
    "df = pd.concat([X,y],axis=1)"
   ]
  },
  {
   "cell_type": "markdown",
   "metadata": {},
   "source": [
    "### Making samples by MEAN OF TWO RANDOM CHOSEN SAMPLES"
   ]
  },
  {
   "cell_type": "code",
   "execution_count": 4,
   "metadata": {
    "ExecuteTime": {
     "end_time": "2021-11-12T07:22:37.631076Z",
     "start_time": "2021-11-12T07:22:37.601076Z"
    }
   },
   "outputs": [],
   "source": [
    "index_high_quality = df[df.quality==2].index"
   ]
  },
  {
   "cell_type": "code",
   "execution_count": 5,
   "metadata": {
    "ExecuteTime": {
     "end_time": "2021-11-12T07:22:37.651076Z",
     "start_time": "2021-11-12T07:22:37.631076Z"
    }
   },
   "outputs": [],
   "source": [
    "def make_new_sample(n,dataset):\n",
    "    '''\n",
    "        MAKE NEW SAMPLE FROM MEAN OF TWO RANDOM CHOSEN SAMPLES\n",
    "        N - new samples amount\n",
    "    '''\n",
    "    for i in range(n):\n",
    "        index_1, index_2 = np.random.randint(low=0,high=len(dataset)-1,size=2)\n",
    "        b = np.array(dataset)\n",
    "        new_item = (b[index_1]+b[index_2])/2\n",
    "        new_item = pd.DataFrame(new_item.reshape(1,-1), columns=dataset.columns)\n",
    "        dataset = dataset.append(new_item)\n",
    "    dataset.reset_index(inplace=True)\n",
    "    dataset.drop(columns='index',inplace=True)\n",
    "    return dataset\n"
   ]
  },
  {
   "cell_type": "code",
   "execution_count": 6,
   "metadata": {
    "ExecuteTime": {
     "end_time": "2021-11-12T07:22:37.661076Z",
     "start_time": "2021-11-12T07:22:37.651076Z"
    }
   },
   "outputs": [],
   "source": [
    "high_quality_df = df[df.quality==2]"
   ]
  },
  {
   "cell_type": "code",
   "execution_count": 7,
   "metadata": {
    "ExecuteTime": {
     "end_time": "2021-11-12T07:22:37.671076Z",
     "start_time": "2021-11-12T07:22:37.661076Z"
    }
   },
   "outputs": [],
   "source": [
    "high_quality_df_pH = list(high_quality_df.pH)"
   ]
  },
  {
   "cell_type": "code",
   "execution_count": 8,
   "metadata": {
    "ExecuteTime": {
     "end_time": "2021-11-12T07:22:39.603080Z",
     "start_time": "2021-11-12T07:22:37.671076Z"
    }
   },
   "outputs": [],
   "source": [
    "a = make_new_sample(3000,high_quality_df)"
   ]
  },
  {
   "cell_type": "code",
   "execution_count": 9,
   "metadata": {
    "ExecuteTime": {
     "end_time": "2021-11-12T07:22:39.633080Z",
     "start_time": "2021-11-12T07:22:39.603080Z"
    }
   },
   "outputs": [
    {
     "data": {
      "text/plain": [
       "array([2994,   11], dtype=int64)"
      ]
     },
     "execution_count": 9,
     "metadata": {},
     "output_type": "execute_result"
    }
   ],
   "source": [
    "a['check'] = a.pH.apply(lambda x: 1 if x in high_quality_df_pH else 0)\n",
    "np.bincount(a.check)"
   ]
  },
  {
   "cell_type": "code",
   "execution_count": 10,
   "metadata": {
    "ExecuteTime": {
     "end_time": "2021-11-12T07:22:39.653080Z",
     "start_time": "2021-11-12T07:22:39.633080Z"
    }
   },
   "outputs": [],
   "source": [
    "new_high_quality_samples = a.loc[a.check == 0,:].iloc[:,:-1]"
   ]
  },
  {
   "cell_type": "code",
   "execution_count": null,
   "metadata": {},
   "outputs": [],
   "source": []
  },
  {
   "cell_type": "code",
   "execution_count": 11,
   "metadata": {
    "ExecuteTime": {
     "end_time": "2021-11-12T07:22:39.693080Z",
     "start_time": "2021-11-12T07:22:39.653080Z"
    }
   },
   "outputs": [
    {
     "data": {
      "text/plain": [
       "(array([ 137, 3758], dtype=int64),\n",
       " array([  64, 1494,    3], dtype=int64),\n",
       " array([ 45, 994,   2], dtype=int64))"
      ]
     },
     "execution_count": 11,
     "metadata": {},
     "output_type": "execute_result"
    }
   ],
   "source": [
    "X_train, X_test, y_train, y_test = train_test_split(df.drop(index=index_high_quality).iloc[:,:-1],\n",
    "                                                    df.drop(index=index_high_quality).iloc[:,-1],test_size=.4,random_state=255)\n",
    "\n",
    "#adding high quality wines\n",
    "X_test = X_test.append(df.iloc[index_high_quality,:-1])\n",
    "y_test = y_test.append(df.iloc[index_high_quality,-1])\n",
    "\n",
    "X_test, X_val, y_test, y_val = train_test_split(X_test,y_test,test_size=.4,random_state=255)\n",
    "\n",
    "np.bincount(y_train), np.bincount(y_test),np.bincount(y_val)"
   ]
  },
  {
   "cell_type": "code",
   "execution_count": 12,
   "metadata": {
    "ExecuteTime": {
     "end_time": "2021-11-12T07:22:39.713080Z",
     "start_time": "2021-11-12T07:22:39.693080Z"
    }
   },
   "outputs": [
    {
     "data": {
      "text/plain": [
       "(array([ 137, 3758, 2994], dtype=int64),\n",
       " array([  64, 1494,    3], dtype=int64),\n",
       " array([ 45, 994,   2], dtype=int64))"
      ]
     },
     "execution_count": 12,
     "metadata": {},
     "output_type": "execute_result"
    }
   ],
   "source": [
    "#adding generated examples to train dataset \n",
    "X_train = X_train.append(new_high_quality_samples.iloc[:,:-1])\n",
    "y_train = y_train.append(new_high_quality_samples.iloc[:,-1])\n",
    "\n",
    "np.bincount(y_train), np.bincount(y_test),np.bincount(y_val)"
   ]
  },
  {
   "cell_type": "code",
   "execution_count": 13,
   "metadata": {
    "ExecuteTime": {
     "end_time": "2021-11-12T07:22:39.743080Z",
     "start_time": "2021-11-12T07:22:39.713080Z"
    }
   },
   "outputs": [
    {
     "data": {
      "text/plain": [
       "array([  64, 1494,   50], dtype=int64)"
      ]
     },
     "execution_count": 13,
     "metadata": {},
     "output_type": "execute_result"
    }
   ],
   "source": [
    "#making 100 duplicates of high_quality wine to X_test and y_test:\n",
    "X_y_test = pd.concat([X_test,y_test],axis=1)\n",
    "\n",
    "a = X_y_test[X_y_test.quality==2]\n",
    "\n",
    "a = a.sample(n=47,random_state=255,replace=True)\n",
    "\n",
    "X_y_test = pd.concat([a,X_y_test],axis=0)\n",
    "\n",
    "\n",
    "X_test = X_y_test.iloc[:,:-1]\n",
    "y_test = X_y_test.iloc[:,-1]\n",
    "\n",
    "np.bincount(y_test)"
   ]
  },
  {
   "cell_type": "code",
   "execution_count": 14,
   "metadata": {
    "ExecuteTime": {
     "end_time": "2021-11-12T07:22:39.773080Z",
     "start_time": "2021-11-12T07:22:39.743080Z"
    }
   },
   "outputs": [
    {
     "data": {
      "text/plain": [
       "array([ 45, 994,  50], dtype=int64)"
      ]
     },
     "execution_count": 14,
     "metadata": {},
     "output_type": "execute_result"
    }
   ],
   "source": [
    "#making 100 duplicates of high_quality wine to X_val and y_val:\n",
    "X_y_val = pd.concat([X_val,y_val],axis=1)\n",
    "\n",
    "a = X_y_val[X_y_val.quality==2]\n",
    "\n",
    "a = a.sample(n=48,random_state=255,replace=True)\n",
    "\n",
    "X_y_val = pd.concat([a,X_y_val],axis=0)\n",
    "\n",
    "\n",
    "X_val = X_y_val.iloc[:,:-1]\n",
    "y_val = X_y_val.iloc[:,-1]\n",
    "\n",
    "np.bincount(y_val)"
   ]
  },
  {
   "cell_type": "code",
   "execution_count": 15,
   "metadata": {
    "ExecuteTime": {
     "end_time": "2021-11-12T07:22:39.803080Z",
     "start_time": "2021-11-12T07:22:39.773080Z"
    }
   },
   "outputs": [
    {
     "name": "stdout",
     "output_type": "stream",
     "text": [
      "class:\n",
      "0\t1\t2\n",
      "-----------------------------------\n",
      "[ 137 3758 2994]  <- train\n",
      "[  64 1494   50]  <- test\n",
      "[ 45 994  50]  <- validation\n"
     ]
    }
   ],
   "source": [
    "print('class:')\n",
    "print('0\\t1\\t2')\n",
    "print('-'*35)\n",
    "print(np.bincount(y_train), ' <- train')\n",
    "print(np.bincount(y_test), ' <- test')\n",
    "print(np.bincount(y_val), ' <- validation')"
   ]
  },
  {
   "cell_type": "code",
   "execution_count": 16,
   "metadata": {
    "ExecuteTime": {
     "end_time": "2021-11-12T07:22:39.823080Z",
     "start_time": "2021-11-12T07:22:39.803080Z"
    }
   },
   "outputs": [
    {
     "data": {
      "text/plain": [
       "(array([ 137, 3758, 2994], dtype=int64),\n",
       " array([  64, 1494,   50], dtype=int64),\n",
       " array([ 45, 994,  50], dtype=int64))"
      ]
     },
     "execution_count": 16,
     "metadata": {},
     "output_type": "execute_result"
    }
   ],
   "source": [
    "np.bincount(y_train), np.bincount(y_test),np.bincount(y_val)"
   ]
  },
  {
   "cell_type": "code",
   "execution_count": 17,
   "metadata": {
    "ExecuteTime": {
     "end_time": "2021-11-12T07:22:40.265082Z",
     "start_time": "2021-11-12T07:22:39.823080Z"
    }
   },
   "outputs": [],
   "source": [
    "#saving to file:\n",
    "X_train.to_csv('X_train.csv')\n",
    "y_train.to_csv('y_train.csv')\n",
    "\n",
    "X_test.to_csv('X_test.csv')\n",
    "y_test.to_csv('y_test.csv')\n",
    "\n",
    "X_val.to_csv('X_val.csv')\n",
    "y_val.to_csv('y_val.csv')"
   ]
  }
 ],
 "metadata": {
  "kernelspec": {
   "display_name": "Python 3 (ipykernel)",
   "language": "python",
   "name": "python3"
  },
  "language_info": {
   "codemirror_mode": {
    "name": "ipython",
    "version": 3
   },
   "file_extension": ".py",
   "mimetype": "text/x-python",
   "name": "python",
   "nbconvert_exporter": "python",
   "pygments_lexer": "ipython3",
   "version": "3.8.5"
  },
  "toc": {
   "base_numbering": 1,
   "nav_menu": {},
   "number_sections": false,
   "sideBar": true,
   "skip_h1_title": false,
   "title_cell": "Table of Contents",
   "title_sidebar": "Contents",
   "toc_cell": false,
   "toc_position": {},
   "toc_section_display": true,
   "toc_window_display": false
  }
 },
 "nbformat": 4,
 "nbformat_minor": 4
}
