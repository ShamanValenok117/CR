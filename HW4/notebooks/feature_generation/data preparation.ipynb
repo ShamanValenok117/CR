{
 "cells": [
  {
   "cell_type": "code",
   "execution_count": 1,
   "metadata": {
    "ExecuteTime": {
     "end_time": "2021-11-11T15:04:09.574823Z",
     "start_time": "2021-11-11T15:04:08.874822Z"
    }
   },
   "outputs": [],
   "source": [
    "\n",
    "import numpy as np\n",
    "import pandas as pd\n"
   ]
  },
  {
   "cell_type": "code",
   "execution_count": 2,
   "metadata": {
    "ExecuteTime": {
     "end_time": "2021-11-11T15:04:09.604823Z",
     "start_time": "2021-11-11T15:04:09.574823Z"
    }
   },
   "outputs": [
    {
     "name": "stdout",
     "output_type": "stream",
     "text": [
      "Loading dataset\n",
      "Checking is it in the data/external/folder\n",
      "Ok.Loading dataset to notebook\n"
     ]
    }
   ],
   "source": [
    "print('Loading dataset')\n",
    "print('Checking is it in the data/external/folder')\n",
    "import os\n",
    "if [True for i in os.listdir('../../data/external/') if '.csv' in i] is None: \n",
    "    print('Running data aquisition script')\n",
    "    %run data.external.RUNME\n",
    "print('Ok.Loading dataset to notebook')"
   ]
  },
  {
   "cell_type": "code",
   "execution_count": 3,
   "metadata": {
    "ExecuteTime": {
     "end_time": "2021-11-11T15:04:09.654823Z",
     "start_time": "2021-11-11T15:04:09.614823Z"
    },
    "scrolled": true
   },
   "outputs": [],
   "source": [
    "df = pd.read_csv('../../data/external/winequalityN.csv')\n"
   ]
  },
  {
   "cell_type": "code",
   "execution_count": 4,
   "metadata": {
    "ExecuteTime": {
     "end_time": "2021-11-11T15:04:10.274824Z",
     "start_time": "2021-11-11T15:04:09.654823Z"
    }
   },
   "outputs": [],
   "source": [
    "from sklearn.preprocessing import StandardScaler\n",
    "scaler = StandardScaler()"
   ]
  },
  {
   "cell_type": "code",
   "execution_count": 5,
   "metadata": {
    "ExecuteTime": {
     "end_time": "2021-11-11T15:04:10.304824Z",
     "start_time": "2021-11-11T15:04:10.274824Z"
    }
   },
   "outputs": [],
   "source": [
    "new_df = pd.DataFrame(data = scaler.fit_transform(df.iloc[:,1:-1]),columns=df.iloc[:,1:-1].columns)"
   ]
  },
  {
   "cell_type": "code",
   "execution_count": 6,
   "metadata": {
    "ExecuteTime": {
     "end_time": "2021-11-11T15:04:10.324824Z",
     "start_time": "2021-11-11T15:04:10.304824Z"
    }
   },
   "outputs": [],
   "source": [
    "new_df['quality'] = df.quality"
   ]
  },
  {
   "cell_type": "code",
   "execution_count": 7,
   "metadata": {
    "ExecuteTime": {
     "end_time": "2021-11-11T15:04:10.344824Z",
     "start_time": "2021-11-11T15:04:10.324824Z"
    }
   },
   "outputs": [],
   "source": [
    "new_df['type_white'] = df.type.apply(lambda x: 1 if x == 'white' else 0)"
   ]
  },
  {
   "cell_type": "code",
   "execution_count": 8,
   "metadata": {
    "ExecuteTime": {
     "end_time": "2021-11-11T15:04:10.354824Z",
     "start_time": "2021-11-11T15:04:10.344824Z"
    }
   },
   "outputs": [],
   "source": [
    "df = new_df"
   ]
  },
  {
   "cell_type": "code",
   "execution_count": 9,
   "metadata": {
    "ExecuteTime": {
     "end_time": "2021-11-11T15:04:10.594824Z",
     "start_time": "2021-11-11T15:04:10.354824Z"
    }
   },
   "outputs": [],
   "source": [
    "df_without_NA = pd.DataFrame()\n",
    "\n",
    "# Fill missing 'fixed acidity' by mean same quality and wine type\n",
    "df_without_NA['fixed acidity'] = df['fixed acidity'].fillna( \n",
    "                df.groupby(by=['quality','type_white'])['fixed acidity'].transform('mean') )\n",
    "\n",
    "# Fill missing 'volatile acidity' by median same quality and wine type\n",
    "df_without_NA['volatile acidity'] = df['volatile acidity'].fillna( \n",
    "                df.groupby(by=['quality','type_white'])['volatile acidity'].transform('median') )\n",
    "\n",
    "\n",
    "# Fill missing 'citric acid' by median same quality and wine type\n",
    "df_without_NA['citric acid'] = df['citric acid'].fillna( \n",
    "                df.groupby(by=['quality','type_white'])['citric acid'].transform('median') )\n",
    "\n",
    "# Fill missing 'residual sugar' by mean same quality and wine type\n",
    "df_without_NA['residual sugar'] = df['residual sugar'].fillna( \n",
    "                df.groupby(by=['quality','type_white'])['residual sugar'].transform('mean') )\n",
    "\n",
    "\n",
    "# Fill missing 'chlorides' by mean same quality and wine type\n",
    "df_without_NA['chlorides'] = df['chlorides'].fillna( \n",
    "                df.groupby(by=['quality','type_white'])['chlorides'].transform('mean') )\n",
    "\n",
    "\n",
    "# Fill missing 'pH' by mean same quality and wine type\n",
    "df_without_NA['pH'] = df['pH'].fillna( \n",
    "                df.groupby(by=['quality','type_white'])['pH'].transform('mean') )\n",
    "\n",
    "\n",
    "# Fill missing 'sulphates' by mean same quality and wine type\n",
    "df_without_NA['sulphates'] = df['sulphates'].fillna( \n",
    "                df.groupby(by=['quality','type_white'])['sulphates'].transform('mean') )\n",
    "\n",
    "# make the other_acids\n",
    "df_without_NA['other_acids'] = df_without_NA.apply(lambda x: x['fixed acidity'] - x['citric acid'],axis=1 )"
   ]
  },
  {
   "cell_type": "code",
   "execution_count": 10,
   "metadata": {
    "ExecuteTime": {
     "end_time": "2021-11-11T15:04:10.604824Z",
     "start_time": "2021-11-11T15:04:10.594824Z"
    }
   },
   "outputs": [],
   "source": [
    "#columns in original dataset (df) where is no missed data\n",
    "\n",
    "features_wo_missed_values = [\n",
    "    'free sulfur dioxide',\n",
    "    'total sulfur dioxide',\n",
    "    'density',\n",
    "    'alcohol']\n"
   ]
  },
  {
   "cell_type": "code",
   "execution_count": null,
   "metadata": {
    "ExecuteTime": {
     "end_time": "2021-11-11T15:03:10.544739Z",
     "start_time": "2021-11-11T15:03:10.524739Z"
    }
   },
   "outputs": [],
   "source": []
  },
  {
   "cell_type": "code",
   "execution_count": 11,
   "metadata": {
    "ExecuteTime": {
     "end_time": "2021-11-11T15:04:10.654824Z",
     "start_time": "2021-11-11T15:04:10.604824Z"
    }
   },
   "outputs": [
    {
     "data": {
      "text/html": [
       "<div>\n",
       "<style scoped>\n",
       "    .dataframe tbody tr th:only-of-type {\n",
       "        vertical-align: middle;\n",
       "    }\n",
       "\n",
       "    .dataframe tbody tr th {\n",
       "        vertical-align: top;\n",
       "    }\n",
       "\n",
       "    .dataframe thead th {\n",
       "        text-align: right;\n",
       "    }\n",
       "</style>\n",
       "<table border=\"1\" class=\"dataframe\">\n",
       "  <thead>\n",
       "    <tr style=\"text-align: right;\">\n",
       "      <th></th>\n",
       "      <th>fixed acidity</th>\n",
       "      <th>volatile acidity</th>\n",
       "      <th>citric acid</th>\n",
       "      <th>residual sugar</th>\n",
       "      <th>chlorides</th>\n",
       "      <th>pH</th>\n",
       "      <th>sulphates</th>\n",
       "      <th>other_acids</th>\n",
       "      <th>free sulfur dioxide</th>\n",
       "      <th>total sulfur dioxide</th>\n",
       "      <th>density</th>\n",
       "      <th>alcohol</th>\n",
       "    </tr>\n",
       "  </thead>\n",
       "  <tbody>\n",
       "    <tr>\n",
       "      <th>0</th>\n",
       "      <td>-0.167030</td>\n",
       "      <td>-0.423303</td>\n",
       "      <td>0.284180</td>\n",
       "      <td>3.206483</td>\n",
       "      <td>-0.315173</td>\n",
       "      <td>-1.358722</td>\n",
       "      <td>-0.545791</td>\n",
       "      <td>-0.451209</td>\n",
       "      <td>0.815565</td>\n",
       "      <td>0.959976</td>\n",
       "      <td>2.102214</td>\n",
       "      <td>-1.418558</td>\n",
       "    </tr>\n",
       "    <tr>\n",
       "      <th>1</th>\n",
       "      <td>-0.706883</td>\n",
       "      <td>-0.241083</td>\n",
       "      <td>0.146489</td>\n",
       "      <td>-0.808012</td>\n",
       "      <td>-0.200996</td>\n",
       "      <td>0.507693</td>\n",
       "      <td>-0.276979</td>\n",
       "      <td>-0.853372</td>\n",
       "      <td>-0.931107</td>\n",
       "      <td>0.287618</td>\n",
       "      <td>-0.232332</td>\n",
       "      <td>-0.831615</td>\n",
       "    </tr>\n",
       "    <tr>\n",
       "      <th>2</th>\n",
       "      <td>0.681310</td>\n",
       "      <td>-0.362563</td>\n",
       "      <td>0.559560</td>\n",
       "      <td>0.305958</td>\n",
       "      <td>-0.172452</td>\n",
       "      <td>0.258838</td>\n",
       "      <td>-0.612994</td>\n",
       "      <td>0.121750</td>\n",
       "      <td>-0.029599</td>\n",
       "      <td>-0.331660</td>\n",
       "      <td>0.134525</td>\n",
       "      <td>-0.328521</td>\n",
       "    </tr>\n",
       "    <tr>\n",
       "      <th>3</th>\n",
       "      <td>-0.012786</td>\n",
       "      <td>-0.666262</td>\n",
       "      <td>0.008799</td>\n",
       "      <td>0.642251</td>\n",
       "      <td>0.055902</td>\n",
       "      <td>-0.176659</td>\n",
       "      <td>-0.881807</td>\n",
       "      <td>-0.021585</td>\n",
       "      <td>0.928254</td>\n",
       "      <td>1.243074</td>\n",
       "      <td>0.301278</td>\n",
       "      <td>-0.496219</td>\n",
       "    </tr>\n",
       "    <tr>\n",
       "      <th>4</th>\n",
       "      <td>-0.012786</td>\n",
       "      <td>-0.666262</td>\n",
       "      <td>0.008799</td>\n",
       "      <td>0.642251</td>\n",
       "      <td>0.055902</td>\n",
       "      <td>-0.176659</td>\n",
       "      <td>-0.881807</td>\n",
       "      <td>-0.021585</td>\n",
       "      <td>0.928254</td>\n",
       "      <td>1.243074</td>\n",
       "      <td>0.301278</td>\n",
       "      <td>-0.496219</td>\n",
       "    </tr>\n",
       "  </tbody>\n",
       "</table>\n",
       "</div>"
      ],
      "text/plain": [
       "   fixed acidity  volatile acidity  citric acid  residual sugar  chlorides  \\\n",
       "0      -0.167030         -0.423303     0.284180        3.206483  -0.315173   \n",
       "1      -0.706883         -0.241083     0.146489       -0.808012  -0.200996   \n",
       "2       0.681310         -0.362563     0.559560        0.305958  -0.172452   \n",
       "3      -0.012786         -0.666262     0.008799        0.642251   0.055902   \n",
       "4      -0.012786         -0.666262     0.008799        0.642251   0.055902   \n",
       "\n",
       "         pH  sulphates  other_acids  free sulfur dioxide  \\\n",
       "0 -1.358722  -0.545791    -0.451209             0.815565   \n",
       "1  0.507693  -0.276979    -0.853372            -0.931107   \n",
       "2  0.258838  -0.612994     0.121750            -0.029599   \n",
       "3 -0.176659  -0.881807    -0.021585             0.928254   \n",
       "4 -0.176659  -0.881807    -0.021585             0.928254   \n",
       "\n",
       "   total sulfur dioxide   density   alcohol  \n",
       "0              0.959976  2.102214 -1.418558  \n",
       "1              0.287618 -0.232332 -0.831615  \n",
       "2             -0.331660  0.134525 -0.328521  \n",
       "3              1.243074  0.301278 -0.496219  \n",
       "4              1.243074  0.301278 -0.496219  "
      ]
     },
     "execution_count": 11,
     "metadata": {},
     "output_type": "execute_result"
    }
   ],
   "source": [
    "#preparing features\n",
    "X = pd.concat( [df_without_NA,df[features_wo_missed_values] ],axis=1 )\n",
    "\n",
    "#preparing target\n",
    "a = {i:0 if i < 5 else 1 if i<9 else 2  for i in range(1,10) }\n",
    "df['quality'] = df.quality.map(a)\n",
    "df.quality.astype(int)\n",
    "y = df['quality']\n"
   ]
  },
  {
   "cell_type": "code",
   "execution_count": null,
   "metadata": {},
   "outputs": [],
   "source": []
  },
  {
   "cell_type": "code",
   "execution_count": 14,
   "metadata": {
    "ExecuteTime": {
     "end_time": "2021-11-11T15:05:44.561963Z",
     "start_time": "2021-11-11T15:05:44.281963Z"
    }
   },
   "outputs": [],
   "source": [
    "X.to_csv('X.csv')"
   ]
  },
  {
   "cell_type": "code",
   "execution_count": null,
   "metadata": {},
   "outputs": [],
   "source": [
    "y.to_csv('y.csv')"
   ]
  }
 ],
 "metadata": {
  "kernelspec": {
   "display_name": "Python 3 (ipykernel)",
   "language": "python",
   "name": "python3"
  },
  "language_info": {
   "codemirror_mode": {
    "name": "ipython",
    "version": 3
   },
   "file_extension": ".py",
   "mimetype": "text/x-python",
   "name": "python",
   "nbconvert_exporter": "python",
   "pygments_lexer": "ipython3",
   "version": "3.8.5"
  },
  "toc": {
   "base_numbering": 1,
   "nav_menu": {},
   "number_sections": true,
   "sideBar": true,
   "skip_h1_title": false,
   "title_cell": "Table of Contents",
   "title_sidebar": "Contents",
   "toc_cell": false,
   "toc_position": {},
   "toc_section_display": true,
   "toc_window_display": false
  }
 },
 "nbformat": 4,
 "nbformat_minor": 4
}
